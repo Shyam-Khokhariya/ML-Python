{
  "nbformat": 4,
  "nbformat_minor": 0,
  "metadata": {
    "colab": {
      "name": "C13_MNIST_Tensorflow.ipynb",
      "version": "0.3.2",
      "provenance": [],
      "include_colab_link": true
    },
    "kernelspec": {
      "name": "python3",
      "display_name": "Python 3"
    }
  },
  "cells": [
    {
      "cell_type": "markdown",
      "metadata": {
        "id": "view-in-github",
        "colab_type": "text"
      },
      "source": [
        "<a href=\"https://colab.research.google.com/github/Shyam-Khokhariya/ML-Python/blob/master/C13_MNIST_Tensorflow.ipynb\" target=\"_parent\"><img src=\"https://colab.research.google.com/assets/colab-badge.svg\" alt=\"Open In Colab\"/></a>"
      ]
    },
    {
      "metadata": {
        "id": "ou5q6iA6wJMo",
        "colab_type": "code",
        "colab": {}
      },
      "cell_type": "code",
      "source": [
        "import tensorflow as tf\n",
        "from tensorflow.examples.tutorials.mnist import input_data"
      ],
      "execution_count": 0,
      "outputs": []
    },
    {
      "metadata": {
        "id": "OooqPLkhOR_p",
        "colab_type": "code",
        "outputId": "b97ed73d-0a90-466f-8553-e50fb40a3ed7",
        "colab": {
          "resources": {
            "http://localhost:8080/nbextensions/google.colab/files.js": {
              "data": "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",
              "ok": true,
              "headers": [
                [
                  "content-type",
                  "application/javascript"
                ]
              ],
              "status": 200,
              "status_text": ""
            }
          },
          "base_uri": "https://localhost:8080/",
          "height": 74
        }
      },
      "cell_type": "code",
      "source": [
        "from google.colab import files\n",
        "uploaded=files.upload()"
      ],
      "execution_count": 0,
      "outputs": [
        {
          "output_type": "display_data",
          "data": {
            "text/html": [
              "\n",
              "     <input type=\"file\" id=\"files-50a0e1c6-2027-4f4b-b192-c4dfc36f3dba\" name=\"files[]\" multiple disabled />\n",
              "     <output id=\"result-50a0e1c6-2027-4f4b-b192-c4dfc36f3dba\">\n",
              "      Upload widget is only available when the cell has been executed in the\n",
              "      current browser session. Please rerun this cell to enable.\n",
              "      </output>\n",
              "      <script src=\"/nbextensions/google.colab/files.js\"></script> "
            ],
            "text/plain": [
              "<IPython.core.display.HTML object>"
            ]
          },
          "metadata": {
            "tags": []
          }
        },
        {
          "output_type": "stream",
          "text": [
            "Saving mnist_scaled.npz to mnist_scaled.npz\n"
          ],
          "name": "stdout"
        }
      ]
    },
    {
      "metadata": {
        "id": "Pqr-WLt1Olzi",
        "colab_type": "code",
        "colab": {}
      },
      "cell_type": "code",
      "source": [
        "import numpy as np\n",
        "mnist=np.load(\"mnist_scaled.npz\")\n",
        "X_train,y_train,X_test,y_test=[mnist[f] for f in mnist.files]"
      ],
      "execution_count": 0,
      "outputs": []
    },
    {
      "metadata": {
        "id": "HJZx8DVDOtI4",
        "colab_type": "code",
        "colab": {}
      },
      "cell_type": "code",
      "source": [
        "mean_val=np.mean(X_train,axis=0)\n",
        "std_val=np.std(X_train)"
      ],
      "execution_count": 0,
      "outputs": []
    },
    {
      "metadata": {
        "id": "NuwnjbZ-O1PJ",
        "colab_type": "code",
        "colab": {}
      },
      "cell_type": "code",
      "source": [
        "X_train_centered=(X_train-mean_val)/std_val\n",
        "X_test_centered=(X_test-mean_val)/std_val"
      ],
      "execution_count": 0,
      "outputs": []
    },
    {
      "metadata": {
        "id": "LdE566a-wfV8",
        "colab_type": "code",
        "outputId": "2d24ce9f-3926-4ddc-d68c-9022fc58dbfc",
        "colab": {
          "base_uri": "https://localhost:8080/",
          "height": 51
        }
      },
      "cell_type": "code",
      "source": [
        "print(X_train_centered.shape,y_train.shape)\n",
        "print(X_test_centered.shape,y_test.shape)"
      ],
      "execution_count": 0,
      "outputs": [
        {
          "output_type": "stream",
          "text": [
            "(60000, 784) (60000,)\n",
            "(10000, 784) (10000,)\n"
          ],
          "name": "stdout"
        }
      ]
    },
    {
      "metadata": {
        "id": "IGnU-HN_yTXh",
        "colab_type": "code",
        "colab": {}
      },
      "cell_type": "code",
      "source": [
        "import tensorflow as tf\n",
        "n_features=X_train_centered.shape[1]\n",
        "n_classes=10\n",
        "random_seed=123\n",
        "np.random.seed(random_seed)\n"
      ],
      "execution_count": 0,
      "outputs": []
    },
    {
      "metadata": {
        "id": "O60PZzre9cw3",
        "colab_type": "code",
        "colab": {}
      },
      "cell_type": "code",
      "source": [
        "g=tf.Graph()\n",
        "with g.as_default():\n",
        "  tf.set_random_seed(random_seed)\n",
        "  tf_x=tf.placeholder(dtype=tf.float32,shape=(None,n_features),name=\"tf_x\")\n",
        "  tf_y=tf.placeholder(dtype=tf.int32,shape=None,name=\"tf_y\")\n",
        "  y_onehot=tf.one_hot(indices=tf_y,depth=n_classes)\n",
        "  h1=tf.layers.dense(inputs=tf_x,units=50,activation=tf.tanh,name=\"layer1\")\n",
        "  h2=tf.layers.dense(inputs=h1,units=50,activation=tf.tanh,name=\"layer2\")\n",
        "  logits=tf.layers.dense(inputs=h2,units=10,activation=None,name=\"layer3\")\n",
        "  predictions={\n",
        "      \"classes\":tf.argmax(logits,axis=1,name=\"pedicted_classes\"),\n",
        "      \"probabilities\":tf.nn.softmax(logits,name=\"softmax_tensor\")\n",
        "  }"
      ],
      "execution_count": 0,
      "outputs": []
    },
    {
      "metadata": {
        "id": "-0YrmuKt_cHM",
        "colab_type": "code",
        "colab": {}
      },
      "cell_type": "code",
      "source": [
        "with g.as_default():\n",
        "  cost=tf.losses.softmax_cross_entropy(onehot_labels=y_onehot,logits=logits)\n",
        "  optimizer=tf.train.GradientDescentOptimizer(learning_rate=0.001)\n",
        "  train_op=optimizer.minimize(loss=cost)\n",
        "  init_op=tf.global_variables_initializer()"
      ],
      "execution_count": 0,
      "outputs": []
    },
    {
      "metadata": {
        "id": "Lf6cJJu1AY5D",
        "colab_type": "code",
        "colab": {}
      },
      "cell_type": "code",
      "source": [
        "def create_batch_generator(X,y,batch_size=128,shuffle=False):\n",
        "  X_copy=np.array(X)\n",
        "  y_copy=np.array(y)\n",
        "  if shuffle:\n",
        "    data=np.column_stack((X_copy,y_copy))\n",
        "    np.random.shuffle(data)\n",
        "    X_copy=data[:,:-1]\n",
        "    y_copy=data[:,-1].astype(int)\n",
        "  \n",
        "  for i in range(0,X.shape[0],batch_size):\n",
        "    yield(X_copy[i:i+batch_size,:],y_copy[i:i+batch_size])\n",
        "    "
      ],
      "execution_count": 0,
      "outputs": []
    },
    {
      "metadata": {
        "id": "4f9PoWITB0uk",
        "colab_type": "code",
        "colab": {}
      },
      "cell_type": "code",
      "source": [
        "sess=tf.Session(graph=g)\n",
        "sess.run(init_op)"
      ],
      "execution_count": 0,
      "outputs": []
    },
    {
      "metadata": {
        "id": "P730SkIBCNK1",
        "colab_type": "code",
        "outputId": "ce2cd348-c41b-450e-e4d4-a769e436370f",
        "colab": {
          "base_uri": "https://localhost:8080/",
          "height": 867
        }
      },
      "cell_type": "code",
      "source": [
        "for epochs in range(50):\n",
        "  training_cost=[]\n",
        "  batch_generator=create_batch_generator(X_train_centered,y_train,shuffle=True,batch_size=64)\n",
        "  for batch_X,batch_y in batch_generator:\n",
        "    feed={tf_x:batch_X,tf_y:batch_y}\n",
        "    _,batch_cost=sess.run([train_op,cost],feed_dict=feed)\n",
        "    training_cost.append(batch_cost)\n",
        "  print(\"----Epochs----%2d----Average Training Loss:%.4f\"%(epochs+1,np.mean(training_cost)))"
      ],
      "execution_count": 0,
      "outputs": [
        {
          "output_type": "stream",
          "text": [
            "----Epochs---- 1----Average Training Loss:1.5581\n",
            "----Epochs---- 2----Average Training Loss:0.9492\n",
            "----Epochs---- 3----Average Training Loss:0.7498\n",
            "----Epochs---- 4----Average Training Loss:0.6385\n",
            "----Epochs---- 5----Average Training Loss:0.5666\n",
            "----Epochs---- 6----Average Training Loss:0.5159\n",
            "----Epochs---- 7----Average Training Loss:0.4780\n",
            "----Epochs---- 8----Average Training Loss:0.4486\n",
            "----Epochs---- 9----Average Training Loss:0.4247\n",
            "----Epochs----10----Average Training Loss:0.4052\n",
            "----Epochs----11----Average Training Loss:0.3886\n",
            "----Epochs----12----Average Training Loss:0.3742\n",
            "----Epochs----13----Average Training Loss:0.3617\n",
            "----Epochs----14----Average Training Loss:0.3507\n",
            "----Epochs----15----Average Training Loss:0.3409\n",
            "----Epochs----16----Average Training Loss:0.3319\n",
            "----Epochs----17----Average Training Loss:0.3239\n",
            "----Epochs----18----Average Training Loss:0.3165\n",
            "----Epochs----19----Average Training Loss:0.3098\n",
            "----Epochs----20----Average Training Loss:0.3036\n",
            "----Epochs----21----Average Training Loss:0.2977\n",
            "----Epochs----22----Average Training Loss:0.2922\n",
            "----Epochs----23----Average Training Loss:0.2871\n",
            "----Epochs----24----Average Training Loss:0.2823\n",
            "----Epochs----25----Average Training Loss:0.2777\n",
            "----Epochs----26----Average Training Loss:0.2734\n",
            "----Epochs----27----Average Training Loss:0.2693\n",
            "----Epochs----28----Average Training Loss:0.2654\n",
            "----Epochs----29----Average Training Loss:0.2618\n",
            "----Epochs----30----Average Training Loss:0.2582\n",
            "----Epochs----31----Average Training Loss:0.2549\n",
            "----Epochs----32----Average Training Loss:0.2515\n",
            "----Epochs----33----Average Training Loss:0.2484\n",
            "----Epochs----34----Average Training Loss:0.2455\n",
            "----Epochs----35----Average Training Loss:0.2426\n",
            "----Epochs----36----Average Training Loss:0.2398\n",
            "----Epochs----37----Average Training Loss:0.2370\n",
            "----Epochs----38----Average Training Loss:0.2344\n",
            "----Epochs----39----Average Training Loss:0.2319\n",
            "----Epochs----40----Average Training Loss:0.2295\n",
            "----Epochs----41----Average Training Loss:0.2271\n",
            "----Epochs----42----Average Training Loss:0.2249\n",
            "----Epochs----43----Average Training Loss:0.2227\n",
            "----Epochs----44----Average Training Loss:0.2204\n",
            "----Epochs----45----Average Training Loss:0.2183\n",
            "----Epochs----46----Average Training Loss:0.2164\n",
            "----Epochs----47----Average Training Loss:0.2144\n",
            "----Epochs----48----Average Training Loss:0.2126\n",
            "----Epochs----49----Average Training Loss:0.2106\n",
            "----Epochs----50----Average Training Loss:0.2088\n"
          ],
          "name": "stdout"
        }
      ]
    },
    {
      "metadata": {
        "id": "iWqAUk5eDb2G",
        "colab_type": "code",
        "outputId": "3f388e5a-ed32-464d-d8d2-65c6ef1fae2c",
        "colab": {
          "base_uri": "https://localhost:8080/",
          "height": 34
        }
      },
      "cell_type": "code",
      "source": [
        "feed={tf_x:X_test_centered}\n",
        "y_pred=sess.run(predictions['classes'],feed_dict=feed)\n",
        "# print(y_pred.shape)\n",
        "# print(y_test.shape)\n",
        "print(\"Test Accuracy:%.3f%%\"%(100*np.sum(y_pred==y_test)/y_test.shape[0]))"
      ],
      "execution_count": 0,
      "outputs": [
        {
          "output_type": "stream",
          "text": [
            "Test Accuracy:93.890%\n"
          ],
          "name": "stdout"
        }
      ]
    },
    {
      "metadata": {
        "id": "D1CR_WxVIfbm",
        "colab_type": "code",
        "colab": {}
      },
      "cell_type": "code",
      "source": [
        ""
      ],
      "execution_count": 0,
      "outputs": []
    },
    {
      "metadata": {
        "id": "haylWUJBy5fJ",
        "colab_type": "code",
        "colab": {}
      },
      "cell_type": "code",
      "source": [
        ""
      ],
      "execution_count": 0,
      "outputs": []
    },
    {
      "metadata": {
        "id": "WAba8QFJy5VM",
        "colab_type": "code",
        "colab": {}
      },
      "cell_type": "code",
      "source": [
        ""
      ],
      "execution_count": 0,
      "outputs": []
    },
    {
      "metadata": {
        "id": "ws53QaaMy5Kg",
        "colab_type": "code",
        "colab": {}
      },
      "cell_type": "code",
      "source": [
        ""
      ],
      "execution_count": 0,
      "outputs": []
    },
    {
      "metadata": {
        "id": "c_4VGfKly4_p",
        "colab_type": "code",
        "colab": {}
      },
      "cell_type": "code",
      "source": [
        ""
      ],
      "execution_count": 0,
      "outputs": []
    },
    {
      "metadata": {
        "id": "q9WEnk8Hy4c7",
        "colab_type": "code",
        "colab": {}
      },
      "cell_type": "code",
      "source": [
        "import tensorflow as tf\n",
        "import tensorflow.keras as keras\n",
        "np.random.seed(123)\n",
        "tf.set_random_seed(123)"
      ],
      "execution_count": 0,
      "outputs": []
    },
    {
      "metadata": {
        "id": "jnN8EfPczNXc",
        "colab_type": "code",
        "colab": {}
      },
      "cell_type": "code",
      "source": [
        "y_train_onehot=keras.utils.to_categorical(y_train)"
      ],
      "execution_count": 0,
      "outputs": []
    },
    {
      "metadata": {
        "id": "9E2qZLTpzZzV",
        "colab_type": "code",
        "outputId": "4b9a1284-769b-44ea-9e00-79d104b43c19",
        "colab": {
          "base_uri": "https://localhost:8080/",
          "height": 119
        }
      },
      "cell_type": "code",
      "source": [
        "print(\"First 3 classes \",y_train[:3])\n",
        "print(\"\\nCatergorical 3 Classes \\n\",y_train_onehot[:3])"
      ],
      "execution_count": 0,
      "outputs": [
        {
          "output_type": "stream",
          "text": [
            "First 3 classes  [5 0 4]\n",
            "\n",
            "Catergorical 3 Classes \n",
            " [[0. 0. 0. 0. 0. 1. 0. 0. 0. 0.]\n",
            " [1. 0. 0. 0. 0. 0. 0. 0. 0. 0.]\n",
            " [0. 0. 0. 0. 1. 0. 0. 0. 0. 0.]]\n"
          ],
          "name": "stdout"
        }
      ]
    },
    {
      "metadata": {
        "id": "ppEZFjqSzp8z",
        "colab_type": "code",
        "colab": {}
      },
      "cell_type": "code",
      "source": [
        "model=keras.models.Sequential()\n",
        "model.add(keras.layers.Dense(kernel_initializer='glorot_uniform',units=50,input_dim=X_train_centered.shape[1],\n",
        "                           bias_initializer='zeros',activation='tanh'))\n",
        "model.add(keras.layers.Dense(units=50,input_dim=50,kernel_initializer='glorot_uniform',\n",
        "                            bias_initializer='zeros',activation='tanh'))\n",
        "model.add(keras.layers.Dense(units=y_train_onehot.shape[1],input_dim=50,kernel_initializer='glorot_uniform',\n",
        "                            bias_initializer='zeros',activation='softmax'))\n",
        "\n",
        "sgd_optimizer=keras.optimizers.SGD(lr=0.001,decay=1e-7,momentum=.9)\n",
        "model.compile(optimizer=sgd_optimizer,loss='categorical_crossentropy')"
      ],
      "execution_count": 0,
      "outputs": []
    },
    {
      "metadata": {
        "id": "oSnYl5J62Z0U",
        "colab_type": "code",
        "outputId": "a5b243a1-a555-4191-f82e-6f8c87964752",
        "colab": {
          "base_uri": "https://localhost:8080/",
          "height": 1805
        }
      },
      "cell_type": "code",
      "source": [
        "history = model.fit(X_train_centered,y_train_onehot,batch_size=64,epochs=50,\n",
        "                   verbose=1,\n",
        "                   validation_split=.1)"
      ],
      "execution_count": 0,
      "outputs": [
        {
          "output_type": "stream",
          "text": [
            "Train on 54000 samples, validate on 6000 samples\n",
            "WARNING:tensorflow:From /usr/local/lib/python3.6/dist-packages/tensorflow/python/ops/math_ops.py:3066: to_int32 (from tensorflow.python.ops.math_ops) is deprecated and will be removed in a future version.\n",
            "Instructions for updating:\n",
            "Use tf.cast instead.\n",
            "Epoch 1/50\n",
            "54000/54000 [==============================] - 3s 53us/sample - loss: 0.7164 - val_loss: 0.3624\n",
            "Epoch 2/50\n",
            "54000/54000 [==============================] - 2s 39us/sample - loss: 0.3724 - val_loss: 0.2759\n",
            "Epoch 3/50\n",
            "54000/54000 [==============================] - 2s 39us/sample - loss: 0.3077 - val_loss: 0.2395\n",
            "Epoch 4/50\n",
            "54000/54000 [==============================] - 2s 39us/sample - loss: 0.2720 - val_loss: 0.2177\n",
            "Epoch 5/50\n",
            "54000/54000 [==============================] - 2s 39us/sample - loss: 0.2471 - val_loss: 0.2017\n",
            "Epoch 6/50\n",
            "54000/54000 [==============================] - 2s 39us/sample - loss: 0.2276 - val_loss: 0.1879\n",
            "Epoch 7/50\n",
            "54000/54000 [==============================] - 2s 39us/sample - loss: 0.2116 - val_loss: 0.1782\n",
            "Epoch 8/50\n",
            "54000/54000 [==============================] - 2s 39us/sample - loss: 0.1980 - val_loss: 0.1700\n",
            "Epoch 9/50\n",
            "54000/54000 [==============================] - 2s 39us/sample - loss: 0.1862 - val_loss: 0.1635\n",
            "Epoch 10/50\n",
            "54000/54000 [==============================] - 2s 39us/sample - loss: 0.1762 - val_loss: 0.1580\n",
            "Epoch 11/50\n",
            "54000/54000 [==============================] - 2s 39us/sample - loss: 0.1670 - val_loss: 0.1531\n",
            "Epoch 12/50\n",
            "54000/54000 [==============================] - 2s 39us/sample - loss: 0.1589 - val_loss: 0.1487\n",
            "Epoch 13/50\n",
            "54000/54000 [==============================] - 2s 40us/sample - loss: 0.1514 - val_loss: 0.1443\n",
            "Epoch 14/50\n",
            "54000/54000 [==============================] - 2s 40us/sample - loss: 0.1448 - val_loss: 0.1413\n",
            "Epoch 15/50\n",
            "54000/54000 [==============================] - 2s 39us/sample - loss: 0.1387 - val_loss: 0.1384\n",
            "Epoch 16/50\n",
            "54000/54000 [==============================] - 2s 39us/sample - loss: 0.1333 - val_loss: 0.1359\n",
            "Epoch 17/50\n",
            "54000/54000 [==============================] - 2s 39us/sample - loss: 0.1280 - val_loss: 0.1338\n",
            "Epoch 18/50\n",
            "54000/54000 [==============================] - 2s 39us/sample - loss: 0.1232 - val_loss: 0.1319\n",
            "Epoch 19/50\n",
            "54000/54000 [==============================] - 2s 39us/sample - loss: 0.1187 - val_loss: 0.1299\n",
            "Epoch 20/50\n",
            "54000/54000 [==============================] - 2s 39us/sample - loss: 0.1146 - val_loss: 0.1280\n",
            "Epoch 21/50\n",
            "54000/54000 [==============================] - 2s 39us/sample - loss: 0.1104 - val_loss: 0.1268\n",
            "Epoch 22/50\n",
            "54000/54000 [==============================] - 2s 39us/sample - loss: 0.1068 - val_loss: 0.1258\n",
            "Epoch 23/50\n",
            "54000/54000 [==============================] - 2s 39us/sample - loss: 0.1034 - val_loss: 0.1245\n",
            "Epoch 24/50\n",
            "54000/54000 [==============================] - 2s 39us/sample - loss: 0.1000 - val_loss: 0.1230\n",
            "Epoch 25/50\n",
            "54000/54000 [==============================] - 2s 39us/sample - loss: 0.0969 - val_loss: 0.1220\n",
            "Epoch 26/50\n",
            "54000/54000 [==============================] - 2s 39us/sample - loss: 0.0938 - val_loss: 0.1215\n",
            "Epoch 27/50\n",
            "54000/54000 [==============================] - 2s 39us/sample - loss: 0.0910 - val_loss: 0.1204\n",
            "Epoch 28/50\n",
            "54000/54000 [==============================] - 2s 39us/sample - loss: 0.0883 - val_loss: 0.1192\n",
            "Epoch 29/50\n",
            "54000/54000 [==============================] - 2s 39us/sample - loss: 0.0857 - val_loss: 0.1186\n",
            "Epoch 30/50\n",
            "54000/54000 [==============================] - 2s 39us/sample - loss: 0.0832 - val_loss: 0.1177\n",
            "Epoch 31/50\n",
            "54000/54000 [==============================] - 2s 39us/sample - loss: 0.0809 - val_loss: 0.1178\n",
            "Epoch 32/50\n",
            "54000/54000 [==============================] - 2s 39us/sample - loss: 0.0786 - val_loss: 0.1170\n",
            "Epoch 33/50\n",
            "54000/54000 [==============================] - 2s 39us/sample - loss: 0.0763 - val_loss: 0.1163\n",
            "Epoch 34/50\n",
            "54000/54000 [==============================] - 2s 39us/sample - loss: 0.0742 - val_loss: 0.1165\n",
            "Epoch 35/50\n",
            "54000/54000 [==============================] - 2s 39us/sample - loss: 0.0723 - val_loss: 0.1157\n",
            "Epoch 36/50\n",
            "54000/54000 [==============================] - 2s 39us/sample - loss: 0.0703 - val_loss: 0.1153\n",
            "Epoch 37/50\n",
            "54000/54000 [==============================] - 2s 39us/sample - loss: 0.0685 - val_loss: 0.1153\n",
            "Epoch 38/50\n",
            "54000/54000 [==============================] - 2s 39us/sample - loss: 0.0666 - val_loss: 0.1145\n",
            "Epoch 39/50\n",
            "54000/54000 [==============================] - 2s 39us/sample - loss: 0.0649 - val_loss: 0.1139\n",
            "Epoch 40/50\n",
            "54000/54000 [==============================] - 2s 39us/sample - loss: 0.0631 - val_loss: 0.1140\n",
            "Epoch 41/50\n",
            "54000/54000 [==============================] - 2s 39us/sample - loss: 0.0615 - val_loss: 0.1135\n",
            "Epoch 42/50\n",
            "54000/54000 [==============================] - 2s 39us/sample - loss: 0.0598 - val_loss: 0.1148\n",
            "Epoch 43/50\n",
            "54000/54000 [==============================] - 2s 39us/sample - loss: 0.0583 - val_loss: 0.1145\n",
            "Epoch 44/50\n",
            "54000/54000 [==============================] - 2s 39us/sample - loss: 0.0569 - val_loss: 0.1152\n",
            "Epoch 45/50\n",
            "54000/54000 [==============================] - 2s 39us/sample - loss: 0.0554 - val_loss: 0.1146\n",
            "Epoch 46/50\n",
            "54000/54000 [==============================] - 2s 39us/sample - loss: 0.0539 - val_loss: 0.1148\n",
            "Epoch 47/50\n",
            "54000/54000 [==============================] - 2s 39us/sample - loss: 0.0526 - val_loss: 0.1151\n",
            "Epoch 48/50\n",
            "54000/54000 [==============================] - 2s 39us/sample - loss: 0.0513 - val_loss: 0.1146\n",
            "Epoch 49/50\n",
            "54000/54000 [==============================] - 2s 39us/sample - loss: 0.0500 - val_loss: 0.1148\n",
            "Epoch 50/50\n",
            "54000/54000 [==============================] - 2s 39us/sample - loss: 0.0488 - val_loss: 0.1149\n"
          ],
          "name": "stdout"
        }
      ]
    },
    {
      "metadata": {
        "id": "GLaWEuGy3ZZG",
        "colab_type": "code",
        "outputId": "e7ecda75-7cfa-4505-fca5-def22b298f96",
        "colab": {
          "base_uri": "https://localhost:8080/",
          "height": 34
        }
      },
      "cell_type": "code",
      "source": [
        "y_train_pred=model.predict_classes(X_train_centered,verbose=0)\n",
        "print(\"Predicted 3 o/p \",y_train_pred[:3])"
      ],
      "execution_count": 0,
      "outputs": [
        {
          "output_type": "stream",
          "text": [
            "Predicted 3 o/p  [5 0 4]\n"
          ],
          "name": "stdout"
        }
      ]
    },
    {
      "metadata": {
        "id": "GiF1ovwr36C4",
        "colab_type": "code",
        "outputId": "83c217d8-062a-4a09-9ca4-d7286425a182",
        "colab": {
          "base_uri": "https://localhost:8080/",
          "height": 34
        }
      },
      "cell_type": "code",
      "source": [
        "correct_pred=np.sum(y_train_pred==y_train,axis=0)\n",
        "print(\"Training Accuracy:\",(correct_pred/y_train.shape[0])*100)"
      ],
      "execution_count": 0,
      "outputs": [
        {
          "output_type": "stream",
          "text": [
            "Training Accuracy: 98.87166666666667\n"
          ],
          "name": "stdout"
        }
      ]
    },
    {
      "metadata": {
        "id": "lqPiHoj-4gJB",
        "colab_type": "code",
        "outputId": "616fc4b1-ea2b-4863-a799-1b572a99cbbf",
        "colab": {
          "base_uri": "https://localhost:8080/",
          "height": 34
        }
      },
      "cell_type": "code",
      "source": [
        "y_test_pred=model.predict_classes(X_test_centered,verbose=0)\n",
        "correct_pred_test=np.sum(y_test==y_test_pred,axis=0)\n",
        "print(\"Test Accuracy:\",(correct_pred_test/y_test.shape[0])*100)"
      ],
      "execution_count": 0,
      "outputs": [
        {
          "output_type": "stream",
          "text": [
            "Test Accuracy: 96.34\n"
          ],
          "name": "stdout"
        }
      ]
    },
    {
      "metadata": {
        "id": "iWuQ6d7946om",
        "colab_type": "code",
        "colab": {}
      },
      "cell_type": "code",
      "source": [
        ""
      ],
      "execution_count": 0,
      "outputs": []
    }
  ]
}