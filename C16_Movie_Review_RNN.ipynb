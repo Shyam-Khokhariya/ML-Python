{
  "nbformat": 4,
  "nbformat_minor": 0,
  "metadata": {
    "colab": {
      "name": "C16_Movie_Review_RNN.ipynb",
      "version": "0.3.2",
      "provenance": [],
      "collapsed_sections": [],
      "include_colab_link": true
    },
    "kernelspec": {
      "name": "python3",
      "display_name": "Python 3"
    }
  },
  "cells": [
    {
      "cell_type": "markdown",
      "metadata": {
        "id": "view-in-github",
        "colab_type": "text"
      },
      "source": [
        "<a href=\"https://colab.research.google.com/github/Shyam-Khokhariya/ML-Python/blob/master/C16_Movie_Review_RNN.ipynb\" target=\"_parent\"><img src=\"https://colab.research.google.com/assets/colab-badge.svg\" alt=\"Open In Colab\"/></a>"
      ]
    },
    {
      "cell_type": "code",
      "metadata": {
        "id": "qP9Gl8geaFZi",
        "colab_type": "code",
        "outputId": "b08a1c38-9359-4b4d-d209-cc927281c510",
        "colab": {
          "base_uri": "https://localhost:8080/",
          "height": 105
        }
      },
      "source": [
        "!pip3 install pyprind\n",
        "import pyprind\n",
        "import pandas as pd\n",
        "import numpy as np\n",
        "import re\n",
        "from string import punctuation"
      ],
      "execution_count": 2,
      "outputs": [
        {
          "output_type": "stream",
          "text": [
            "Collecting pyprind\n",
            "  Downloading https://files.pythonhosted.org/packages/1e/30/e76fb0c45da8aef49ea8d2a90d4e7a6877b45894c25f12fb961f009a891e/PyPrind-2.11.2-py3-none-any.whl\n",
            "Installing collected packages: pyprind\n",
            "Successfully installed pyprind-2.11.2\n"
          ],
          "name": "stdout"
        }
      ]
    },
    {
      "cell_type": "code",
      "metadata": {
        "id": "kYsjQO-ZakFo",
        "colab_type": "code",
        "colab": {}
      },
      "source": [
        "df=pd.read_csv(\"movie_data.csv\",encoding=\"utf-8\")"
      ],
      "execution_count": 0,
      "outputs": []
    },
    {
      "cell_type": "code",
      "metadata": {
        "id": "0zP2CTcXvDAl",
        "colab_type": "code",
        "outputId": "39d03d09-9073-4a20-e39f-08162242d550",
        "colab": {
          "base_uri": "https://localhost:8080/",
          "height": 129
        }
      },
      "source": [
        "review=\"Hello, everyone . My Self ! @ shyam ?\"\n",
        "text=\"\"\n",
        "for c in review:\n",
        "  if c not in punctuation:\n",
        "    text=text+c\n",
        "  else:\n",
        "    text=text+\" \"\n",
        "print(text)\n",
        "text=\" \".join(text.split()).lower()\n",
        "print(text)\n",
        "\n",
        "sequence_length=200\n",
        "sequences=np.zeros(sequence_length,dtype=str)\n",
        "r_arr=np.array(text)\n",
        "sequences[-len(text):]=text[-sequence_length:]\n",
        "print(sequences)"
      ],
      "execution_count": 13,
      "outputs": [
        {
          "output_type": "error",
          "ename": "SyntaxError",
          "evalue": "ignored",
          "traceback": [
            "\u001b[0;36m  File \u001b[0;32m\"<ipython-input-13-786333946dcd>\"\u001b[0;36m, line \u001b[0;32m15\u001b[0m\n\u001b[0;31m    print((int)r_arr)\u001b[0m\n\u001b[0m                   ^\u001b[0m\n\u001b[0;31mSyntaxError\u001b[0m\u001b[0;31m:\u001b[0m invalid syntax\n"
          ]
        }
      ]
    },
    {
      "cell_type": "code",
      "metadata": {
        "id": "ep9OCB5lke7V",
        "colab_type": "code",
        "outputId": "af6db7ed-bc66-4b66-a967-3805f2b0d279",
        "colab": {
          "base_uri": "https://localhost:8080/",
          "height": 136
        }
      },
      "source": [
        "from collections import Counter\n",
        "counts = Counter()\n",
        "pbar = pyprind.ProgBar(len(df['review']),title='Counting words occurrences')\n",
        "for i,review in enumerate(df['review']):\n",
        "  #text = ''.join([c if c not in punctuation else ' '+c+' ' for c in review]).lower()\n",
        "  text=\"\"\n",
        "  for c in review:\n",
        "    if c not in punctuation:\n",
        "      text=text+c\n",
        "    else:\n",
        "      text=text+\" \"\n",
        "  text=\" \".join(text.split()).lower()\n",
        "  df.loc[i,'review'] = text\n",
        "  pbar.update()\n",
        "  counts.update(text.split())\n",
        " ## Create a mapping\n",
        " ## Map each unique word to an integer\n",
        "word_counts = sorted(counts, key=counts.get, reverse=True)\n",
        "print(word_counts[:5])\n",
        "word_to_int = {word: ii for ii, word in  enumerate(word_counts, 1)}\n",
        "mapped_reviews = []\n",
        "pbar = pyprind.ProgBar(len(df['review']),  title='Map reviews to ints')\n",
        "for review in df['review']:\n",
        "  mapped_reviews.append([word_to_int[word] for word in review.split()])\n",
        "  pbar.update()"
      ],
      "execution_count": 16,
      "outputs": [
        {
          "output_type": "stream",
          "text": [
            "Counting words occurrences\n",
            "0% [##############################] 100% | ETA: 00:00:00\n",
            "Total time elapsed: 00:03:58\n",
            "Map reviews to ints\n"
          ],
          "name": "stderr"
        },
        {
          "output_type": "stream",
          "text": [
            "['the', 'and', 'a', 'of', 'to']\n"
          ],
          "name": "stdout"
        },
        {
          "output_type": "stream",
          "text": [
            "0% [##############################] 100% | ETA: 00:00:00\n",
            "Total time elapsed: 00:00:03\n"
          ],
          "name": "stderr"
        }
      ]
    },
    {
      "cell_type": "code",
      "metadata": {
        "id": "ldLRLD8wulu_",
        "colab_type": "code",
        "colab": {}
      },
      "source": [
        "#Defining same length sequences\n",
        "\n",
        "sequence_length=200\n",
        "sequences=np.zeros((len(mapped_reviews),sequence_length),dtype=int)\n",
        "for i,row in enumerate(mapped_reviews):\n",
        "  review_arr=np.array(row)\n",
        "  sequences[i,-len(row):]=review_arr[-sequence_length:]\n"
      ],
      "execution_count": 0,
      "outputs": []
    },
    {
      "cell_type": "code",
      "metadata": {
        "id": "PVH8ibeCy15U",
        "colab_type": "code",
        "colab": {}
      },
      "source": [
        "X_train=sequences[:25000,:]\n",
        "y_train=df.loc[:25000,\"sentiment\"].values\n",
        "X_test=sequences[25000:,:]\n",
        "y_test=df.loc[25000:,\"sentiment\"].values"
      ],
      "execution_count": 0,
      "outputs": []
    },
    {
      "cell_type": "code",
      "metadata": {
        "id": "r2Fz3KVSzSnc",
        "colab_type": "code",
        "colab": {}
      },
      "source": [
        "np.random.seed(123)\n",
        "\n",
        "#Function for mini-batch\n",
        "def create_batch_generator(x,y=None,batch_size=64):\n",
        "  n_batches=len(x)//batch_size\n",
        "  x=x[:n_batches*batch_size]\n",
        "  if y is not None:\n",
        "    y=y[:n_batches*batch_size]\n",
        "  for ii in range(0,len(x),batch_size):\n",
        "    if y is not None:\n",
        "      yield x[ii:ii+batch_size],y[ii:ii+batch_size]\n",
        "    else:\n",
        "      yield x[ii:ii+batch_size]\n",
        "      "
      ],
      "execution_count": 0,
      "outputs": []
    },
    {
      "cell_type": "code",
      "metadata": {
        "id": "y_FMUNRK0fxw",
        "colab_type": "code",
        "colab": {}
      },
      "source": [
        "embedding=tf.Variable(tf.random_uniform(shape=(n_words,embedding_size),minval=-1,maxval=1))\n",
        "embed_x=tf.nn.embedding_lookup(embedding,tf_x)"
      ],
      "execution_count": 0,
      "outputs": []
    }
  ]
}