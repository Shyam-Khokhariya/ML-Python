{
  "nbformat": 4,
  "nbformat_minor": 0,
  "metadata": {
    "colab": {
      "name": "C14_Tensorflow.ipynb",
      "version": "0.3.2",
      "provenance": [],
      "collapsed_sections": [],
      "include_colab_link": true
    },
    "kernelspec": {
      "name": "python3",
      "display_name": "Python 3"
    }
  },
  "cells": [
    {
      "cell_type": "markdown",
      "metadata": {
        "id": "view-in-github",
        "colab_type": "text"
      },
      "source": [
        "<a href=\"https://colab.research.google.com/github/Shyam-Khokhariya/ML-Python/blob/master/C14_Tensorflow.ipynb\" target=\"_parent\"><img src=\"https://colab.research.google.com/assets/colab-badge.svg\" alt=\"Open In Colab\"/></a>"
      ]
    },
    {
      "cell_type": "code",
      "metadata": {
        "id": "oJQnFmZkOxyp",
        "colab_type": "code",
        "colab": {}
      },
      "source": [
        "import tensorflow as tf"
      ],
      "execution_count": 0,
      "outputs": []
    },
    {
      "cell_type": "code",
      "metadata": {
        "id": "VnfobbL0O9Fl",
        "colab_type": "code",
        "colab": {}
      },
      "source": [
        "g=tf.Graph()\n"
      ],
      "execution_count": 0,
      "outputs": []
    },
    {
      "cell_type": "code",
      "metadata": {
        "id": "J81ZmjJbPEgi",
        "colab_type": "code",
        "outputId": "53f32269-2144-4e42-a02a-7286c333caf8",
        "colab": {
          "base_uri": "https://localhost:8080/",
          "height": 51
        }
      },
      "source": [
        "with g.as_default():\n",
        "  t1=tf.constant(1)\n",
        "  t2=tf.constant([1,2,3])\n",
        "  t3=tf.constant([[[1],[2]],[[3],[4]]])\n",
        "  \n",
        "  r1=tf.rank(t1)\n",
        "  r2=tf.rank(t2)\n",
        "  r3=tf.rank(t3)\n",
        "  \n",
        "  s1=t1.get_shape()\n",
        "  s2=t2.get_shape()\n",
        "  s3=t3.get_shape()\n",
        "  print(\"Shapes : \",s1,s2,s3)\n",
        "  \n",
        "with tf.Session(graph=g) as sess:\n",
        "  print(\"Ranks : \",r1.eval(),r2.eval(),r3.eval())"
      ],
      "execution_count": 0,
      "outputs": [
        {
          "output_type": "stream",
          "text": [
            "Shapes :  () (3,) (2, 2, 1)\n",
            "Ranks :  0 1 3\n"
          ],
          "name": "stdout"
        }
      ]
    },
    {
      "cell_type": "code",
      "metadata": {
        "id": "afDC-FJwP70P",
        "colab_type": "code",
        "colab": {}
      },
      "source": [
        "g1=tf.Graph()"
      ],
      "execution_count": 0,
      "outputs": []
    },
    {
      "cell_type": "code",
      "metadata": {
        "id": "wpQtwyF-TKaN",
        "colab_type": "code",
        "outputId": "cf2bfc41-4e85-413f-da76-c7cbaeeed665",
        "colab": {
          "base_uri": "https://localhost:8080/",
          "height": 34
        }
      },
      "source": [
        "with g1.as_default():\n",
        "  a=tf.constant(5)\n",
        "  b=tf.constant(2)\n",
        "  c=tf.constant(10)\n",
        "  z=2*(a-b)+c\n",
        "with tf.Session(graph=g1) as sess:\n",
        "  p=sess.run(z)\n",
        "  print(p)"
      ],
      "execution_count": 0,
      "outputs": [
        {
          "output_type": "stream",
          "text": [
            "16\n"
          ],
          "name": "stdout"
        }
      ]
    },
    {
      "cell_type": "code",
      "metadata": {
        "id": "qosZjPfSTrCV",
        "colab_type": "code",
        "colab": {}
      },
      "source": [
        ""
      ],
      "execution_count": 0,
      "outputs": []
    },
    {
      "cell_type": "code",
      "metadata": {
        "id": "QdWsXF9r2Sqg",
        "colab_type": "code",
        "colab": {}
      },
      "source": [
        ""
      ],
      "execution_count": 0,
      "outputs": []
    },
    {
      "cell_type": "code",
      "metadata": {
        "id": "dsh9ljD02St_",
        "colab_type": "code",
        "colab": {}
      },
      "source": [
        ""
      ],
      "execution_count": 0,
      "outputs": []
    },
    {
      "cell_type": "code",
      "metadata": {
        "id": "mFWP7DwE2Sw3",
        "colab_type": "code",
        "colab": {}
      },
      "source": [
        ""
      ],
      "execution_count": 0,
      "outputs": []
    },
    {
      "cell_type": "code",
      "metadata": {
        "id": "2OTVUcrx2S0I",
        "colab_type": "code",
        "colab": {}
      },
      "source": [
        ""
      ],
      "execution_count": 0,
      "outputs": []
    },
    {
      "cell_type": "code",
      "metadata": {
        "id": "t93cZKIi2TDe",
        "colab_type": "code",
        "colab": {}
      },
      "source": [
        "import tensorflow as tf\n",
        "g1=tf.Graph()\n",
        "with g1.as_default():\n",
        "  tf_a=tf.placeholder(tf.int32,shape=[],name='tf_a')\n",
        "  tf_b=tf.placeholder(tf.int32,shape=[],name='tf_b')\n",
        "  tf_c=tf.placeholder(tf.int32,shape=[],name='tf_c')\n",
        "  r1=tf_a-tf_b\n",
        "  r2=2*r1\n",
        "  z=r2+tf_c"
      ],
      "execution_count": 0,
      "outputs": []
    },
    {
      "cell_type": "code",
      "metadata": {
        "id": "WWYe6iW83D1o",
        "colab_type": "code",
        "outputId": "0e903397-c8c1-4bb0-f201-921eae1dbc45",
        "colab": {
          "base_uri": "https://localhost:8080/",
          "height": 34
        }
      },
      "source": [
        "  with tf.Session(graph=g1) as sess:\n",
        "    feed={tf_a:1,\n",
        "         tf_b:2,\n",
        "         tf_c:3}\n",
        "    print('z:',sess.run(z,feed_dict=feed))"
      ],
      "execution_count": 0,
      "outputs": [
        {
          "output_type": "stream",
          "text": [
            "z: 1\n"
          ],
          "name": "stdout"
        }
      ]
    },
    {
      "cell_type": "code",
      "metadata": {
        "id": "uSUHwkqG3jHW",
        "colab_type": "code",
        "colab": {}
      },
      "source": [
        ""
      ],
      "execution_count": 0,
      "outputs": []
    },
    {
      "cell_type": "code",
      "metadata": {
        "id": "Cq90wSlv3yDw",
        "colab_type": "code",
        "colab": {}
      },
      "source": [
        ""
      ],
      "execution_count": 0,
      "outputs": []
    },
    {
      "cell_type": "code",
      "metadata": {
        "id": "b9KeV2KD3yLI",
        "colab_type": "code",
        "colab": {}
      },
      "source": [
        ""
      ],
      "execution_count": 0,
      "outputs": []
    },
    {
      "cell_type": "code",
      "metadata": {
        "id": "kFFi-5Mz3yOa",
        "colab_type": "code",
        "colab": {}
      },
      "source": [
        ""
      ],
      "execution_count": 0,
      "outputs": []
    },
    {
      "cell_type": "code",
      "metadata": {
        "id": "BWJL0-lT3yRr",
        "colab_type": "code",
        "colab": {}
      },
      "source": [
        "import tensorflow as tf\n",
        "g2=tf.Graph()\n",
        "with g2.as_default():\n",
        "  tf_x=tf.placeholder(tf.float32,shape=[None,2],name='tf_x')\n",
        "  x_mean=tf.reduce_mean(tf_x,axis=0,name='mean')\n",
        "  "
      ],
      "execution_count": 0,
      "outputs": []
    },
    {
      "cell_type": "code",
      "metadata": {
        "id": "8fdMGr534TYT",
        "colab_type": "code",
        "outputId": "735c6acf-e3ca-40d4-b373-6734a06352d4",
        "colab": {
          "base_uri": "https://localhost:8080/",
          "height": 85
        }
      },
      "source": [
        "import numpy as np\n",
        "np.random.seed(123)\n",
        "np.set_printoptions(precision=2)\n",
        "with tf.Session(graph=g2) as sess:\n",
        "  x1=np.random.uniform(low=0,high=10,size=(5,2))\n",
        "  print(\"Feeding Shape : \",x1.shape)\n",
        "  print(\"Result : \",sess.run(x_mean,feed_dict={tf_x:x1}))\n",
        "  x2=np.random.uniform(low=2,high=5,size=(10,2))\n",
        "  print(\"Feeding Shape : \",x2.shape)\n",
        "  print(\"Result : \",sess.run(x_mean,feed_dict={tf_x:x2}))"
      ],
      "execution_count": 0,
      "outputs": [
        {
          "output_type": "stream",
          "text": [
            "Feeding Shape :  (5, 2)\n",
            "Result :  [6.21 4.68]\n",
            "Feeding Shape :  (10, 2)\n",
            "Resu;t :  [3.39 3.46]\n"
          ],
          "name": "stdout"
        }
      ]
    },
    {
      "cell_type": "code",
      "metadata": {
        "id": "5WN4LyRn5YHE",
        "colab_type": "code",
        "colab": {}
      },
      "source": [
        ""
      ],
      "execution_count": 0,
      "outputs": []
    },
    {
      "cell_type": "code",
      "metadata": {
        "id": "hQ_E0JdVh1mT",
        "colab_type": "code",
        "colab": {}
      },
      "source": [
        ""
      ],
      "execution_count": 0,
      "outputs": []
    },
    {
      "cell_type": "code",
      "metadata": {
        "id": "stpUxi9kh1pV",
        "colab_type": "code",
        "colab": {}
      },
      "source": [
        ""
      ],
      "execution_count": 0,
      "outputs": []
    },
    {
      "cell_type": "code",
      "metadata": {
        "id": "gzMZpj_ih1sG",
        "colab_type": "code",
        "colab": {}
      },
      "source": [
        ""
      ],
      "execution_count": 0,
      "outputs": []
    },
    {
      "cell_type": "code",
      "metadata": {
        "id": "8FJaa4eJh1uS",
        "colab_type": "code",
        "colab": {}
      },
      "source": [
        ""
      ],
      "execution_count": 0,
      "outputs": []
    },
    {
      "cell_type": "code",
      "metadata": {
        "id": "A7tkDkyhh1xD",
        "colab_type": "code",
        "outputId": "2ff9e5e0-4ec8-45ca-a64e-ba4c7d234469",
        "colab": {
          "base_uri": "https://localhost:8080/",
          "height": 105
        }
      },
      "source": [
        "import tensorflow as tf\n",
        "import numpy as np\n",
        "g3=tf.Graph()\n",
        "with g3.as_default():\n",
        "  w=tf.Variable(np.array([1,2]),name='weight')\n",
        "  print(w)"
      ],
      "execution_count": 0,
      "outputs": [
        {
          "output_type": "stream",
          "text": [
            "WARNING:tensorflow:From /usr/local/lib/python3.6/dist-packages/tensorflow/python/framework/op_def_library.py:263: colocate_with (from tensorflow.python.framework.ops) is deprecated and will be removed in a future version.\n",
            "Instructions for updating:\n",
            "Colocations handled automatically by placer.\n",
            "<tf.Variable 'weight:0' shape=(2,) dtype=int64_ref>\n"
          ],
          "name": "stdout"
        }
      ]
    },
    {
      "cell_type": "code",
      "metadata": {
        "id": "83-GTP_jiYga",
        "colab_type": "code",
        "outputId": "6d1e1196-5e4e-4d1e-f164-7b669268b6d0",
        "colab": {
          "base_uri": "https://localhost:8080/",
          "height": 34
        }
      },
      "source": [
        "with tf.Session(graph=g3) as sess:\n",
        "  sess.run(tf.global_variables_initializer())\n",
        "  print(sess.run(w))"
      ],
      "execution_count": 0,
      "outputs": [
        {
          "output_type": "stream",
          "text": [
            "[1 2]\n"
          ],
          "name": "stdout"
        }
      ]
    },
    {
      "cell_type": "code",
      "metadata": {
        "id": "GMBFY2QMiwaq",
        "colab_type": "code",
        "colab": {}
      },
      "source": [
        ""
      ],
      "execution_count": 0,
      "outputs": []
    },
    {
      "cell_type": "code",
      "metadata": {
        "id": "ZaBimJKYjIJO",
        "colab_type": "code",
        "colab": {}
      },
      "source": [
        ""
      ],
      "execution_count": 0,
      "outputs": []
    },
    {
      "cell_type": "code",
      "metadata": {
        "id": "_ZksUlnTjILy",
        "colab_type": "code",
        "colab": {}
      },
      "source": [
        ""
      ],
      "execution_count": 0,
      "outputs": []
    },
    {
      "cell_type": "code",
      "metadata": {
        "id": "vEJQ69y5jIN-",
        "colab_type": "code",
        "colab": {}
      },
      "source": [
        "import tensorflow as tf\n",
        "g4=tf.Graph()\n",
        "with g4.as_default():\n",
        "  a=tf.Variable(1,name='a')\n",
        "  init=tf.global_variables_initializer()\n",
        "  b=tf.Variable(2,name='b')  "
      ],
      "execution_count": 0,
      "outputs": []
    },
    {
      "cell_type": "code",
      "metadata": {
        "id": "Umw4cHaRjgPf",
        "colab_type": "code",
        "outputId": "a8916b70-06ee-459d-dff7-3f7aa2b7d2c2",
        "colab": {
          "base_uri": "https://localhost:8080/",
          "height": 34
        }
      },
      "source": [
        "with tf.Session(graph=g4) as sess:\n",
        "  sess.run(init)\n",
        "  print('a : ',sess.run(a))"
      ],
      "execution_count": 0,
      "outputs": [
        {
          "output_type": "stream",
          "text": [
            "a :  1\n"
          ],
          "name": "stdout"
        }
      ]
    },
    {
      "cell_type": "code",
      "metadata": {
        "id": "reUdmHAJkD25",
        "colab_type": "code",
        "outputId": "174a0e73-8904-4458-a152-b0b91f3596fa",
        "colab": {
          "base_uri": "https://localhost:8080/",
          "height": 34
        }
      },
      "source": [
        "with tf.Session(graph=g4) as sess:\n",
        "  sess.run(init)\n",
        "  print(\"b : \",sess.run(b))"
      ],
      "execution_count": 0,
      "outputs": [
        {
          "output_type": "stream",
          "text": [
            "b :  2\n"
          ],
          "name": "stdout"
        }
      ]
    },
    {
      "cell_type": "code",
      "metadata": {
        "id": "HVVl8_r_kMiJ",
        "colab_type": "code",
        "colab": {}
      },
      "source": [
        ""
      ],
      "execution_count": 0,
      "outputs": []
    },
    {
      "cell_type": "code",
      "metadata": {
        "id": "gcdKXALxkgBG",
        "colab_type": "code",
        "colab": {}
      },
      "source": [
        ""
      ],
      "execution_count": 0,
      "outputs": []
    },
    {
      "cell_type": "code",
      "metadata": {
        "id": "8S_lkQF-kgEG",
        "colab_type": "code",
        "colab": {}
      },
      "source": [
        ""
      ],
      "execution_count": 0,
      "outputs": []
    },
    {
      "cell_type": "code",
      "metadata": {
        "id": "Il9y4r0-kgKo",
        "colab_type": "code",
        "colab": {}
      },
      "source": [
        ""
      ],
      "execution_count": 0,
      "outputs": []
    },
    {
      "cell_type": "code",
      "metadata": {
        "id": "hZwWe8GskgXq",
        "colab_type": "code",
        "outputId": "1864d92d-613b-4b40-bd5b-5adb72bc06a6",
        "colab": {
          "base_uri": "https://localhost:8080/",
          "height": 68
        }
      },
      "source": [
        "import tensorflow as tf\n",
        "g5=tf.Graph()\n",
        "\n",
        "with g5.as_default():\n",
        "  with tf.variable_scope(\"net1\"):\n",
        "    with tf.variable_scope(\"layer1\"):\n",
        "      a1=tf.Variable(tf.random_normal(shape=(10,4)),name=\"a1\")\n",
        "    with tf.variable_scope(\"layer2\"):\n",
        "      a2=tf.Variable(tf.random_normal(shape=(5,3)),name='a2')\n",
        "  with tf.variable_scope(\"net2\"):\n",
        "    a3=tf.Variable(2,name='a3')\n",
        "  \n",
        "  print(a1)\n",
        "  print(a2)\n",
        "  print(a3)\n",
        "  "
      ],
      "execution_count": 0,
      "outputs": [
        {
          "output_type": "stream",
          "text": [
            "<tf.Variable 'net1/layer1/a1:0' shape=(10, 4) dtype=float32_ref>\n",
            "<tf.Variable 'net1/layer2/a2:0' shape=(5, 3) dtype=float32_ref>\n",
            "<tf.Variable 'net2/a3:0' shape=() dtype=int32_ref>\n"
          ],
          "name": "stdout"
        }
      ]
    },
    {
      "cell_type": "code",
      "metadata": {
        "id": "mhSDY4Wtllsf",
        "colab_type": "code",
        "colab": {}
      },
      "source": [
        ""
      ],
      "execution_count": 0,
      "outputs": []
    },
    {
      "cell_type": "code",
      "metadata": {
        "id": "wSB2OKCllv9l",
        "colab_type": "code",
        "colab": {}
      },
      "source": [
        ""
      ],
      "execution_count": 0,
      "outputs": []
    },
    {
      "cell_type": "code",
      "metadata": {
        "id": "JktHSUHqlwA0",
        "colab_type": "code",
        "colab": {}
      },
      "source": [
        ""
      ],
      "execution_count": 0,
      "outputs": []
    },
    {
      "cell_type": "code",
      "metadata": {
        "id": "4_-ZdVl5lwGT",
        "colab_type": "code",
        "colab": {}
      },
      "source": [
        ""
      ],
      "execution_count": 0,
      "outputs": []
    },
    {
      "cell_type": "code",
      "metadata": {
        "id": "7RVbSlkulwLS",
        "colab_type": "code",
        "colab": {}
      },
      "source": [
        ""
      ],
      "execution_count": 0,
      "outputs": []
    },
    {
      "cell_type": "code",
      "metadata": {
        "id": "f7-yakqulwOY",
        "colab_type": "code",
        "colab": {}
      },
      "source": [
        ""
      ],
      "execution_count": 0,
      "outputs": []
    },
    {
      "cell_type": "code",
      "metadata": {
        "id": "oJHYCvSslwRS",
        "colab_type": "code",
        "colab": {}
      },
      "source": [
        "import tensorflow as tf\n",
        "import numpy as np\n",
        "\n",
        "\n",
        "###----Helper Function----###\n",
        "\n",
        "\n",
        "def build_classifier(data,labels,n_classes=2):\n",
        "  data_shape=data.get_shape().as_list()\n",
        "  weights=tf.get_variable(shape=(data_shape[1],n_classes),name='weights',dtype=tf.float32)\n",
        "  bias=tf.get_variable(name='bias',initializer=tf.zeros(shape=n_classes))\n",
        "  logits=tf.add(tf.matmul(data,weights),bias,name='logits')\n",
        "  return logits,tf.nn.softmax(logits)\n",
        "def build_generator(data,n_hidden):\n",
        "  data_shape=data.get_shape().as_list()\n",
        "  w1=tf.Variable(tf.random_normal(shape=(data_shape[1],n_hidden)),name='w1')\n",
        "  b1=tf.Variable(tf.zeros(shape=n_hidden),name='b1')\n",
        "  hidden=tf.add(tf.matmul(data,w1),b1,name='hidden_pre-activation')\n",
        "  hidden=tf.nn.relu(hidden,'hidden_activation')\n",
        "  \n",
        "  w2=tf.Variable(tf.random_normal(shape=(n_hidden,data_shape[1])),name='w2')\n",
        "  b2=tf.Variable(tf.zeros(shape=data_shape[1]),name='b2')\n",
        "  output=tf.add(tf.matmul(hidden,w2),b2,name=\"output\")\n",
        "  return output,tf.nn.sigmoid(output)\n"
      ],
      "execution_count": 0,
      "outputs": []
    },
    {
      "cell_type": "code",
      "metadata": {
        "id": "G_6mwrVTpmWF",
        "colab_type": "code",
        "outputId": "38d9c85d-e266-4595-eecc-33f8ba4cadf9",
        "colab": {
          "base_uri": "https://localhost:8080/",
          "height": 88
        }
      },
      "source": [
        "###----Building Graph----###\n",
        "batch_size=64\n",
        "g5=tf.Graph()\n",
        "with g5.as_default():\n",
        "  tf_X=tf.placeholder(shape=(batch_size,100),dtype=tf.float32,name='tf_X')\n",
        "  \n",
        "  #---build the generator---#\n",
        "  with tf.variable_scope('generator'):\n",
        "    gen_out1=build_generator(data=tf_X,n_hidden=50)\n",
        "  \n",
        "  #---build the classifier---#\n",
        "  with tf.variable_scope('classifier') as scope:\n",
        "    #-Classify original data-#\n",
        "    cls_out1=build_classifier(data=tf_X,labels=tf.ones(shape=batch_size))\n",
        "    \n",
        "    #-reuse classifier for generating data-#\n",
        "    scope.reuse_variables()\n",
        "    cls_out2=build_classifier(data=gen_out1[1],labels=tf.zeros(shape=batch_size))"
      ],
      "execution_count": 0,
      "outputs": [
        {
          "output_type": "stream",
          "text": [
            "WARNING:tensorflow:From /usr/local/lib/python3.6/dist-packages/tensorflow/python/framework/op_def_library.py:263: colocate_with (from tensorflow.python.framework.ops) is deprecated and will be removed in a future version.\n",
            "Instructions for updating:\n",
            "Colocations handled automatically by placer.\n"
          ],
          "name": "stdout"
        }
      ]
    },
    {
      "cell_type": "code",
      "metadata": {
        "id": "QYbY8qMB-eks",
        "colab_type": "code",
        "colab": {}
      },
      "source": [
        ""
      ],
      "execution_count": 0,
      "outputs": []
    },
    {
      "cell_type": "code",
      "metadata": {
        "id": "nUkJHj3y-fCM",
        "colab_type": "code",
        "colab": {}
      },
      "source": [
        ""
      ],
      "execution_count": 0,
      "outputs": []
    },
    {
      "cell_type": "code",
      "metadata": {
        "id": "IwEp2-Dq-fFo",
        "colab_type": "code",
        "colab": {}
      },
      "source": [
        ""
      ],
      "execution_count": 0,
      "outputs": []
    },
    {
      "cell_type": "code",
      "metadata": {
        "id": "cStMn47P-fIk",
        "colab_type": "code",
        "colab": {}
      },
      "source": [
        ""
      ],
      "execution_count": 0,
      "outputs": []
    },
    {
      "cell_type": "code",
      "metadata": {
        "id": "9xFzZ0AJ-fLP",
        "colab_type": "code",
        "colab": {}
      },
      "source": [
        ""
      ],
      "execution_count": 0,
      "outputs": []
    },
    {
      "cell_type": "code",
      "metadata": {
        "id": "Uus6yLjl-fOM",
        "colab_type": "code",
        "colab": {}
      },
      "source": [
        ""
      ],
      "execution_count": 0,
      "outputs": []
    },
    {
      "cell_type": "code",
      "metadata": {
        "id": "QKTGDDJE-fTI",
        "colab_type": "code",
        "colab": {}
      },
      "source": [
        "!rm -rf ./logs/ "
      ],
      "execution_count": 0,
      "outputs": []
    },
    {
      "cell_type": "code",
      "metadata": {
        "id": "EJYPTkNk-fQn",
        "colab_type": "code",
        "outputId": "e78c602f-dd9d-40b2-fd4f-d59e5ecb4cf7",
        "colab": {
          "base_uri": "https://localhost:8080/",
          "height": 34
        }
      },
      "source": [
        "# Ensure TensorFlow 2.0 is installed.\n",
        "# !pip install tensorflow==2.0.0-alpha0\n",
        "# !pip install -q tf-nightly-2.0-preview\n",
        "# Load the TensorBoard notebook extension.\n",
        "%load_ext tensorboard"
      ],
      "execution_count": 0,
      "outputs": [
        {
          "output_type": "stream",
          "text": [
            "The tensorboard module is not an IPython extension.\n"
          ],
          "name": "stdout"
        }
      ]
    },
    {
      "cell_type": "code",
      "metadata": {
        "id": "Q3eXSxtp-u5q",
        "colab_type": "code",
        "outputId": "1e2c1f92-ff4b-4a2b-9428-41b17a4bfc84",
        "colab": {
          "base_uri": "https://localhost:8080/",
          "height": 34
        }
      },
      "source": [
        "from __future__ import absolute_import\n",
        "from __future__ import division\n",
        "from __future__ import print_function\n",
        "\n",
        "from datetime import datetime\n",
        "from packaging import version\n",
        "\n",
        "import tensorflow as tf\n",
        "from tensorflow import keras\n",
        "\n",
        "print(\"TensorFlow version: \", tf.__version__)\n",
        "assert version.parse(tf.__version__).release[0] >= 2, \\\n",
        "    \"This notebook requires TensorFlow 2.0 or above.\""
      ],
      "execution_count": 0,
      "outputs": [
        {
          "output_type": "stream",
          "text": [
            "TensorFlow version:  2.0.0-alpha0\n"
          ],
          "name": "stdout"
        }
      ]
    },
    {
      "cell_type": "code",
      "metadata": {
        "id": "EqQqUQlEriOs",
        "colab_type": "code",
        "colab": {}
      },
      "source": [
        "with tf.Session(graph=g5) as sess:\n",
        "  sess.run(tf.global_variables_initializer())\n",
        "  file_writer=tf.summary.FileWriter(logdir='./log/',graph=g5)\n",
        "  "
      ],
      "execution_count": 0,
      "outputs": []
    },
    {
      "cell_type": "code",
      "metadata": {
        "id": "v3KoNaUL8h7m",
        "colab_type": "code",
        "outputId": "667b91ac-fb78-4d76-89a1-3c817b27e57b",
        "colab": {
          "base_uri": "https://localhost:8080/",
          "height": 34
        }
      },
      "source": [
        "%tensorboard --logdir 'log/'"
      ],
      "execution_count": 0,
      "outputs": [
        {
          "output_type": "stream",
          "text": [
            "UsageError: Line magic function `%tensorboard` not found.\n"
          ],
          "name": "stderr"
        }
      ]
    },
    {
      "cell_type": "code",
      "metadata": {
        "id": "xaTGlIx3r7mI",
        "colab_type": "code",
        "colab": {}
      },
      "source": [
        ""
      ],
      "execution_count": 0,
      "outputs": []
    },
    {
      "cell_type": "code",
      "metadata": {
        "id": "j0rBQAsgr7pu",
        "colab_type": "code",
        "colab": {}
      },
      "source": [
        ""
      ],
      "execution_count": 0,
      "outputs": []
    },
    {
      "cell_type": "code",
      "metadata": {
        "id": "xw5gH4-cr7zA",
        "colab_type": "code",
        "colab": {}
      },
      "source": [
        ""
      ],
      "execution_count": 0,
      "outputs": []
    },
    {
      "cell_type": "code",
      "metadata": {
        "id": "Yx8Dny0Or721",
        "colab_type": "code",
        "colab": {}
      },
      "source": [
        ""
      ],
      "execution_count": 0,
      "outputs": []
    },
    {
      "cell_type": "code",
      "metadata": {
        "id": "evLhiD0pBZ9R",
        "colab_type": "code",
        "colab": {}
      },
      "source": [
        ""
      ],
      "execution_count": 0,
      "outputs": []
    },
    {
      "cell_type": "code",
      "metadata": {
        "id": "z7oyp2OPBaDi",
        "colab_type": "code",
        "colab": {}
      },
      "source": [
        ""
      ],
      "execution_count": 0,
      "outputs": []
    },
    {
      "cell_type": "code",
      "metadata": {
        "id": "HG791o--BaGq",
        "colab_type": "code",
        "colab": {}
      },
      "source": [
        ""
      ],
      "execution_count": 0,
      "outputs": []
    },
    {
      "cell_type": "code",
      "metadata": {
        "id": "AdlWNr3lBaJ4",
        "colab_type": "code",
        "outputId": "8f1ef931-9229-42b3-d291-e33c23568728",
        "colab": {
          "base_uri": "https://localhost:8080/",
          "height": 238
        }
      },
      "source": [
        "!wget https://bin.equinox.io/c/4VmDzA7iaHb/ngrok-stable-linux-amd64.zip\n",
        "!unzip ngrok-stable-linux-amd64.zip\n"
      ],
      "execution_count": 0,
      "outputs": [
        {
          "output_type": "stream",
          "text": [
            "--2019-04-24 11:05:38--  https://bin.equinox.io/c/4VmDzA7iaHb/ngrok-stable-linux-amd64.zip\n",
            "Resolving bin.equinox.io (bin.equinox.io)... 34.196.237.103, 52.73.9.93, 52.4.95.48, ...\n",
            "Connecting to bin.equinox.io (bin.equinox.io)|34.196.237.103|:443... connected.\n",
            "HTTP request sent, awaiting response... 200 OK\n",
            "Length: 14991793 (14M) [application/octet-stream]\n",
            "Saving to: ‘ngrok-stable-linux-amd64.zip’\n",
            "\n",
            "ngrok-stable-linux- 100%[===================>]  14.30M  18.4MB/s    in 0.8s    \n",
            "\n",
            "2019-04-24 11:05:39 (18.4 MB/s) - ‘ngrok-stable-linux-amd64.zip’ saved [14991793/14991793]\n",
            "\n",
            "Archive:  ngrok-stable-linux-amd64.zip\n",
            "  inflating: ngrok                   \n"
          ],
          "name": "stdout"
        }
      ]
    },
    {
      "cell_type": "code",
      "metadata": {
        "id": "J2WW6ZEvBbwp",
        "colab_type": "code",
        "colab": {}
      },
      "source": [
        "LOG_DIR = './log'\n",
        "get_ipython().system_raw(\n",
        "    'tensorboard --logdir {} --host 0.0.0.0 --port 6006 &'\n",
        "    .format(LOG_DIR)\n",
        ")"
      ],
      "execution_count": 0,
      "outputs": []
    },
    {
      "cell_type": "code",
      "metadata": {
        "id": "4dlGLmnxBvoe",
        "colab_type": "code",
        "colab": {}
      },
      "source": [
        "get_ipython().system_raw('./ngrok http 6006 &')"
      ],
      "execution_count": 0,
      "outputs": []
    },
    {
      "cell_type": "code",
      "metadata": {
        "id": "bvU1q5GxB0lf",
        "colab_type": "code",
        "outputId": "db5c0b1e-8432-4658-f754-024404f17fe3",
        "colab": {
          "base_uri": "https://localhost:8080/",
          "height": 34
        }
      },
      "source": [
        "! curl -s http://localhost:4040/api/tunnels | python3 -c \\\n",
        "    \"import sys, json; print(json.load(sys.stdin)['tunnels'][0]['public_url'])\""
      ],
      "execution_count": 0,
      "outputs": [
        {
          "output_type": "stream",
          "text": [
            "http://238944b0.ngrok.io\n"
          ],
          "name": "stdout"
        }
      ]
    },
    {
      "cell_type": "code",
      "metadata": {
        "id": "NL1WP2S8B4Jh",
        "colab_type": "code",
        "colab": {}
      },
      "source": [
        ""
      ],
      "execution_count": 0,
      "outputs": []
    }
  ]
}