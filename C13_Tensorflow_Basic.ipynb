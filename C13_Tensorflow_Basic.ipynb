{
  "nbformat": 4,
  "nbformat_minor": 0,
  "metadata": {
    "colab": {
      "name": "C13_Tensorflow_Basic.ipynb",
      "version": "0.3.2",
      "provenance": [],
      "include_colab_link": true
    },
    "kernelspec": {
      "name": "python3",
      "display_name": "Python 3"
    }
  },
  "cells": [
    {
      "cell_type": "markdown",
      "metadata": {
        "id": "view-in-github",
        "colab_type": "text"
      },
      "source": [
        "<a href=\"https://colab.research.google.com/github/Shyam-Khokhariya/ML-Python/blob/master/C13_Tensorflow_Basic.ipynb\" target=\"_parent\"><img src=\"https://colab.research.google.com/assets/colab-badge.svg\" alt=\"Open In Colab\"/></a>"
      ]
    },
    {
      "metadata": {
        "id": "goUwHSywBloE",
        "colab_type": "code",
        "colab": {
          "base_uri": "https://localhost:8080/",
          "height": 34
        },
        "outputId": "1fffb932-f5b9-4093-9644-59f2d29f2216"
      },
      "cell_type": "code",
      "source": [
        "import tensorflow as tf\n",
        "print(tf.__version__)"
      ],
      "execution_count": 2,
      "outputs": [
        {
          "output_type": "stream",
          "text": [
            "1.13.1\n"
          ],
          "name": "stdout"
        }
      ]
    },
    {
      "metadata": {
        "id": "dm2PiIfDB1OQ",
        "colab_type": "code",
        "colab": {}
      },
      "cell_type": "code",
      "source": [
        "g=tf.Graph()"
      ],
      "execution_count": 0,
      "outputs": []
    },
    {
      "metadata": {
        "id": "izF5zey6bM2e",
        "colab_type": "code",
        "colab": {
          "base_uri": "https://localhost:8080/",
          "height": 88
        },
        "outputId": "3a2273ce-a8e4-4b6c-ac26-1a2468e8d1ed"
      },
      "cell_type": "code",
      "source": [
        "with g.as_default():\n",
        "  x=tf.placeholder(dtype=tf.float32,shape=(None),name='x')\n",
        "  w=tf.Variable(2.0,name='weight')\n",
        "  b=tf.Variable(0.7,name='bias')\n",
        "  z = x*w + b\n",
        "  init=tf.global_variables_initializer()"
      ],
      "execution_count": 4,
      "outputs": [
        {
          "output_type": "stream",
          "text": [
            "WARNING:tensorflow:From /usr/local/lib/python3.6/dist-packages/tensorflow/python/framework/op_def_library.py:263: colocate_with (from tensorflow.python.framework.ops) is deprecated and will be removed in a future version.\n",
            "Instructions for updating:\n",
            "Colocations handled automatically by placer.\n"
          ],
          "name": "stdout"
        }
      ]
    },
    {
      "metadata": {
        "id": "o9VTi1WkcIKt",
        "colab_type": "code",
        "colab": {
          "base_uri": "https://localhost:8080/",
          "height": 85
        },
        "outputId": "29f2fff3-85bf-4d60-8eb7-f2b19c91f1a2"
      },
      "cell_type": "code",
      "source": [
        "with tf.Session(graph=g) as sess:\n",
        "  sess.run(init)\n",
        "  for t in [1.0,2,1.2,-0.2]:\n",
        "    print(\"x=%4.1f--->z=%4.1f\"%(t,sess.run(z,feed_dict={x:t})))"
      ],
      "execution_count": 5,
      "outputs": [
        {
          "output_type": "stream",
          "text": [
            "x= 1.0--->z= 2.7\n",
            "x= 2.0--->z= 4.7\n",
            "x= 1.2--->z= 3.1\n",
            "x=-0.2--->z= 0.3\n"
          ],
          "name": "stdout"
        }
      ]
    },
    {
      "metadata": {
        "id": "0XRNQXO1c761",
        "colab_type": "code",
        "colab": {
          "base_uri": "https://localhost:8080/",
          "height": 34
        },
        "outputId": "ebb5ce27-e82e-4118-b591-c883ac4edf53"
      },
      "cell_type": "code",
      "source": [
        "with tf.Session(graph=g) as sess:\n",
        "  sess.run(init)\n",
        "  print(sess.run(z,feed_dict={x:[1,2,2.1]}))"
      ],
      "execution_count": 6,
      "outputs": [
        {
          "output_type": "stream",
          "text": [
            "[2.7       4.7       4.8999996]\n"
          ],
          "name": "stdout"
        }
      ]
    },
    {
      "metadata": {
        "id": "DbEKslnTdyeZ",
        "colab_type": "code",
        "colab": {}
      },
      "cell_type": "code",
      "source": [
        ""
      ],
      "execution_count": 0,
      "outputs": []
    },
    {
      "metadata": {
        "id": "QlJ4KBSofDjX",
        "colab_type": "code",
        "colab": {}
      },
      "cell_type": "code",
      "source": [
        ""
      ],
      "execution_count": 0,
      "outputs": []
    },
    {
      "metadata": {
        "id": "OwtzkHW4fEEi",
        "colab_type": "code",
        "colab": {}
      },
      "cell_type": "code",
      "source": [
        "import numpy as np\n",
        "import tensorflow as tf\n",
        "g=tf.Graph()\n",
        "with g.as_default():\n",
        "  x=tf.placeholder(dtype=tf.float32,shape=(None,2,3),name='x')\n",
        "  x2=tf.reshape(x,shape=(-1,6),name='x2')\n",
        "  xsum=tf.reduce_sum(x2,axis=0,name='col_sum')\n",
        "  xmean=tf.reduce_mean(x2,axis=0,name='col_mean')\n",
        "  "
      ],
      "execution_count": 0,
      "outputs": []
    },
    {
      "metadata": {
        "id": "XnIEL2uYf9Rw",
        "colab_type": "code",
        "colab": {
          "base_uri": "https://localhost:8080/",
          "height": 255
        },
        "outputId": "20f7d6f8-9e09-4a3a-d6a4-291a57c38792"
      },
      "cell_type": "code",
      "source": [
        "with tf.Session(graph=g) as sess:\n",
        "  X_array=np.arange(18).reshape(3,2,3)\n",
        "  print(\"X:\",X_array)\n",
        "  print(\"Input Shape:\",X_array.shape)\n",
        "  print(\"Reshaped:\",sess.run(x2,feed_dict={x:X_array}))\n",
        "  print(\"Column Sum:\",sess.run(xsum,feed_dict={x:X_array}))\n",
        "  print(\"Column Mean:\",sess.run(xmean,feed_dict={x:X_array}))\n",
        "  "
      ],
      "execution_count": 9,
      "outputs": [
        {
          "output_type": "stream",
          "text": [
            "X: [[[ 0  1  2]\n",
            "  [ 3  4  5]]\n",
            "\n",
            " [[ 6  7  8]\n",
            "  [ 9 10 11]]\n",
            "\n",
            " [[12 13 14]\n",
            "  [15 16 17]]]\n",
            "Input Shape: (3, 2, 3)\n",
            "Reshaped: [[ 0.  1.  2.  3.  4.  5.]\n",
            " [ 6.  7.  8.  9. 10. 11.]\n",
            " [12. 13. 14. 15. 16. 17.]]\n",
            "Column Sum: [18. 21. 24. 27. 30. 33.]\n",
            "Column Mean: [ 6.  7.  8.  9. 10. 11.]\n"
          ],
          "name": "stdout"
        }
      ]
    },
    {
      "metadata": {
        "id": "GvfNNKfygtpG",
        "colab_type": "code",
        "colab": {}
      },
      "cell_type": "code",
      "source": [
        ""
      ],
      "execution_count": 0,
      "outputs": []
    },
    {
      "metadata": {
        "id": "awJV4-1qi87P",
        "colab_type": "code",
        "colab": {}
      },
      "cell_type": "code",
      "source": [
        ""
      ],
      "execution_count": 0,
      "outputs": []
    },
    {
      "metadata": {
        "id": "9OLbvKrUjn0q",
        "colab_type": "code",
        "colab": {}
      },
      "cell_type": "code",
      "source": [
        ""
      ],
      "execution_count": 0,
      "outputs": []
    },
    {
      "metadata": {
        "id": "KYGrVeMfi8-t",
        "colab_type": "code",
        "colab": {}
      },
      "cell_type": "code",
      "source": [
        ""
      ],
      "execution_count": 0,
      "outputs": []
    },
    {
      "metadata": {
        "id": "_spXqI1Ni9CK",
        "colab_type": "code",
        "colab": {}
      },
      "cell_type": "code",
      "source": [
        "import numpy as np\n",
        "import tensorflow as tf\n",
        "X_train=np.arange(10).reshape((10,1))\n",
        "y_train=np.array([1.0,1.2,3.1,2.3,4.0,4.2,5.0,4.8,6.0,8.0])"
      ],
      "execution_count": 0,
      "outputs": []
    },
    {
      "metadata": {
        "id": "Js9kGbjQjpeC",
        "colab_type": "code",
        "colab": {
          "base_uri": "https://localhost:8080/",
          "height": 190
        },
        "outputId": "7a976197-087f-4596-a37c-28d70bfcc249"
      },
      "cell_type": "code",
      "source": [
        "class TFLinreg(object):\n",
        "  def __init__(self,x_dim,learning_rate=0.01,random_seed=None):\n",
        "    self.x_dim=x_dim\n",
        "    self.learning_rate=learning_rate\n",
        "    self.g=tf.Graph()\n",
        "    with self.g.as_default():\n",
        "      tf.set_random_seed(random_seed)\n",
        "      self.build()\n",
        "      self.init_op=tf.global_variables_initializer()\n",
        "  def build(self):\n",
        "    self.X=tf.placeholder(dtype=tf.float32,shape=(None,self.x_dim),name='x_input')\n",
        "    self.y=tf.placeholder(dtype=tf.float32,shape=(None),name='y_input')\n",
        "    print(self.X)\n",
        "    print(self.y)\n",
        "    w=tf.Variable(tf.zeros(shape=(1)),name='weight')\n",
        "    b=tf.Variable(tf.zeros(shape=(1)),name='bias')\n",
        "    print(w)\n",
        "    print(b)\n",
        "    self.z_net=tf.squeeze(w*self.X+b,name='z_net')\n",
        "    print(self.z_net)\n",
        "    sqr_error=tf.square(self.y-self.z_net,name='sqr_error')\n",
        "    print(sqr_error)\n",
        "    self.mean_cost=tf.reduce_mean(sqr_error,name='mean_cost')\n",
        "    optimizer=tf.train.GradientDescentOptimizer(learning_rate=self.learning_rate,name='GradientDesent')\n",
        "    self.optimizer=optimizer.minimize(self.mean_cost)\n",
        "\n",
        "lrmodel=TFLinreg(x_dim=X_train.shape[1],learning_rate=0.01)"
      ],
      "execution_count": 12,
      "outputs": [
        {
          "output_type": "stream",
          "text": [
            "Tensor(\"x_input:0\", shape=(?, 1), dtype=float32)\n",
            "Tensor(\"y_input:0\", dtype=float32)\n",
            "<tf.Variable 'weight:0' shape=(1,) dtype=float32_ref>\n",
            "<tf.Variable 'bias:0' shape=(1,) dtype=float32_ref>\n",
            "Tensor(\"z_net:0\", dtype=float32)\n",
            "Tensor(\"sqr_error:0\", dtype=float32)\n",
            "WARNING:tensorflow:From /usr/local/lib/python3.6/dist-packages/tensorflow/python/ops/math_ops.py:3066: to_int32 (from tensorflow.python.ops.math_ops) is deprecated and will be removed in a future version.\n",
            "Instructions for updating:\n",
            "Use tf.cast instead.\n"
          ],
          "name": "stdout"
        }
      ]
    },
    {
      "metadata": {
        "id": "7KpYK0fYmmFv",
        "colab_type": "code",
        "colab": {}
      },
      "cell_type": "code",
      "source": [
        "def train_linreg(sess,model,X_train,y_train,num_epochs=10):\n",
        "  sess.run(model.init_op)\n",
        "  training_cost=[]\n",
        "  for i in range(num_epochs):\n",
        "    _,cost=sess.run([model.optimizer,model.mean_cost],feed_dict={model.X:X_train,model.y:y_train})\n",
        "    print(cost)\n",
        "    training_cost.append(cost)\n",
        "  return training_cost"
      ],
      "execution_count": 0,
      "outputs": []
    },
    {
      "metadata": {
        "id": "KW5Mic0joaHi",
        "colab_type": "code",
        "colab": {
          "base_uri": "https://localhost:8080/",
          "height": 204
        },
        "outputId": "15d218e9-7b00-44fd-fc4c-931517761a6b"
      },
      "cell_type": "code",
      "source": [
        "sess=tf.Session(graph=lrmodel.g)\n",
        "training_cost=train_linreg(sess,lrmodel,X_train,y_train)\n",
        "print(training_cost)"
      ],
      "execution_count": 22,
      "outputs": [
        {
          "output_type": "stream",
          "text": [
            "19.902\n",
            "3.8349717\n",
            "1.0577357\n",
            "0.57649684\n",
            "0.49193662\n",
            "0.47592354\n",
            "0.47176892\n",
            "0.46967822\n",
            "0.46795988\n",
            "0.46632105\n",
            "[19.902, 3.8349717, 1.0577357, 0.57649684, 0.49193662, 0.47592354, 0.47176892, 0.46967822, 0.46795988, 0.46632105]\n"
          ],
          "name": "stdout"
        }
      ]
    },
    {
      "metadata": {
        "id": "UhLH5iQwpXIV",
        "colab_type": "code",
        "colab": {}
      },
      "cell_type": "code",
      "source": [
        ""
      ],
      "execution_count": 0,
      "outputs": []
    },
    {
      "metadata": {
        "id": "1XhMMJBJoslD",
        "colab_type": "code",
        "colab": {
          "base_uri": "https://localhost:8080/",
          "height": 311
        },
        "outputId": "d3217c1d-b1f8-46f0-babb-12d9f1298d3a"
      },
      "cell_type": "code",
      "source": [
        "import matplotlib.pyplot as plt\n",
        "plt.plot(range(1,len(training_cost)+1),training_cost)\n",
        "plt.tight_layout()\n",
        "plt.xlabel(\"Epochs\")\n",
        "plt.ylabel(\"Training Cost\")\n",
        "plt.show()\n"
      ],
      "execution_count": 23,
      "outputs": [
        {
          "output_type": "display_data",
          "data": {
            "image/png": "[encoded data removed]",
            "text/plain": [
              "<Figure size 432x288 with 1 Axes>"
            ]
          },
          "metadata": {
            "tags": []
          }
        }
      ]
    },
    {
      "metadata": {
        "id": "sALyygPnpGHs",
        "colab_type": "code",
        "colab": {}
      },
      "cell_type": "code",
      "source": [
        "def predict_linreg(sess,model,X_test):\n",
        "  y_pred=sess.run(model.z_net,feed_dict={model.X:X_test})\n",
        "  return y_pred"
      ],
      "execution_count": 0,
      "outputs": []
    },
    {
      "metadata": {
        "id": "gWLGulbRqE50",
        "colab_type": "code",
        "colab": {
          "base_uri": "https://localhost:8080/",
          "height": 297
        },
        "outputId": "a81153f9-f523-4911-bcc1-719e28f79c64"
      },
      "cell_type": "code",
      "source": [
        "plt.scatter(X_train,y_train,marker='s',s=50,label=\"Training Data\")\n",
        "plt.plot(range(X_train.shape[0]),predict_linreg(sess,lrmodel,X_train),color='grey',marker='o',markersize=6,label='Linear Regression Model')\n",
        "plt.xlabel('x')\n",
        "plt.ylabel('y')\n",
        "plt.legend()\n",
        "plt.tight_layout()\n",
        "plt.show()"
      ],
      "execution_count": 26,
      "outputs": [
        {
          "output_type": "display_data",
          "data": {
            "image/png": "[encoded data removed]",
            "text/plain": [
              "<Figure size 432x288 with 1 Axes>"
            ]
          },
          "metadata": {
            "tags": []
          }
        }
      ]
    },
    {
      "metadata": {
        "id": "PSzSLdfjquQe",
        "colab_type": "code",
        "colab": {}
      },
      "cell_type": "code",
      "source": [
        ""
      ],
      "execution_count": 0,
      "outputs": []
    }
  ]
}